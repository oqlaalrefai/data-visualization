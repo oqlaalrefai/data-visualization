{
 "cells": [
  {
   "cell_type": "markdown",
   "id": "e96e450c-7e47-4f84-a777-97c938eee997",
   "metadata": {
    "tags": []
   },
   "source": [
    "## data visulization"
   ]
  },
  {
   "cell_type": "code",
   "execution_count": 2,
   "id": "d992c3ba-0414-4a8c-9b73-d58194b5b158",
   "metadata": {},
   "outputs": [],
   "source": [
    "import pandas as pd\n",
    "import numpy as np\n",
    "import matplotlib.pyplot as plt\n",
    "import seaborn as sns"
   ]
  },
  {
   "cell_type": "markdown",
   "id": "d404079d-668b-443d-bdb0-b521c35e5a47",
   "metadata": {},
   "source": [
    "### list all dataset in seaborn"
   ]
  },
  {
   "cell_type": "code",
   "execution_count": 3,
   "id": "5bf9d520-b1dc-400f-a4d1-9b8a638f44b2",
   "metadata": {},
   "outputs": [
    {
     "data": {
      "text/plain": [
       "['anagrams',\n",
       " 'anscombe',\n",
       " 'attention',\n",
       " 'brain_networks',\n",
       " 'car_crashes',\n",
       " 'diamonds',\n",
       " 'dots',\n",
       " 'exercise',\n",
       " 'flights',\n",
       " 'fmri',\n",
       " 'gammas',\n",
       " 'geyser',\n",
       " 'iris',\n",
       " 'mpg',\n",
       " 'penguins',\n",
       " 'planets',\n",
       " 'taxis',\n",
       " 'tips',\n",
       " 'titanic']"
      ]
     },
     "execution_count": 3,
     "metadata": {},
     "output_type": "execute_result"
    }
   ],
   "source": [
    "sns.get_dataset_names()\n"
   ]
  },
  {
   "cell_type": "markdown",
   "id": "34fa1519-ea3d-4ffe-8e49-68f09bd06a09",
   "metadata": {},
   "source": [
    "## load the dataset"
   ]
  },
  {
   "cell_type": "code",
   "execution_count": 11,
   "id": "3ebb21df-8477-463a-a9f3-ef31be623d2c",
   "metadata": {},
   "outputs": [],
   "source": [
    "tips = sns.load_dataset(\"tips\")"
   ]
  },
  {
   "cell_type": "code",
   "execution_count": 13,
   "id": "c91618d2-86c1-4fea-ab7b-a267f45e0fb8",
   "metadata": {},
   "outputs": [
    {
     "data": {
      "text/html": [
       "<div>\n",
       "<style scoped>\n",
       "    .dataframe tbody tr th:only-of-type {\n",
       "        vertical-align: middle;\n",
       "    }\n",
       "\n",
       "    .dataframe tbody tr th {\n",
       "        vertical-align: top;\n",
       "    }\n",
       "\n",
       "    .dataframe thead th {\n",
       "        text-align: right;\n",
       "    }\n",
       "</style>\n",
       "<table border=\"1\" class=\"dataframe\">\n",
       "  <thead>\n",
       "    <tr style=\"text-align: right;\">\n",
       "      <th></th>\n",
       "      <th>total_bill</th>\n",
       "      <th>tip</th>\n",
       "      <th>sex</th>\n",
       "      <th>smoker</th>\n",
       "      <th>day</th>\n",
       "      <th>time</th>\n",
       "      <th>size</th>\n",
       "    </tr>\n",
       "  </thead>\n",
       "  <tbody>\n",
       "    <tr>\n",
       "      <th>0</th>\n",
       "      <td>16.99</td>\n",
       "      <td>1.01</td>\n",
       "      <td>Female</td>\n",
       "      <td>No</td>\n",
       "      <td>Sun</td>\n",
       "      <td>Dinner</td>\n",
       "      <td>2</td>\n",
       "    </tr>\n",
       "    <tr>\n",
       "      <th>1</th>\n",
       "      <td>10.34</td>\n",
       "      <td>1.66</td>\n",
       "      <td>Male</td>\n",
       "      <td>No</td>\n",
       "      <td>Sun</td>\n",
       "      <td>Dinner</td>\n",
       "      <td>3</td>\n",
       "    </tr>\n",
       "    <tr>\n",
       "      <th>2</th>\n",
       "      <td>21.01</td>\n",
       "      <td>3.50</td>\n",
       "      <td>Male</td>\n",
       "      <td>No</td>\n",
       "      <td>Sun</td>\n",
       "      <td>Dinner</td>\n",
       "      <td>3</td>\n",
       "    </tr>\n",
       "    <tr>\n",
       "      <th>3</th>\n",
       "      <td>23.68</td>\n",
       "      <td>3.31</td>\n",
       "      <td>Male</td>\n",
       "      <td>No</td>\n",
       "      <td>Sun</td>\n",
       "      <td>Dinner</td>\n",
       "      <td>2</td>\n",
       "    </tr>\n",
       "    <tr>\n",
       "      <th>4</th>\n",
       "      <td>24.59</td>\n",
       "      <td>3.61</td>\n",
       "      <td>Female</td>\n",
       "      <td>No</td>\n",
       "      <td>Sun</td>\n",
       "      <td>Dinner</td>\n",
       "      <td>4</td>\n",
       "    </tr>\n",
       "  </tbody>\n",
       "</table>\n",
       "</div>"
      ],
      "text/plain": [
       "   total_bill   tip     sex smoker  day    time  size\n",
       "0       16.99  1.01  Female     No  Sun  Dinner     2\n",
       "1       10.34  1.66    Male     No  Sun  Dinner     3\n",
       "2       21.01  3.50    Male     No  Sun  Dinner     3\n",
       "3       23.68  3.31    Male     No  Sun  Dinner     2\n",
       "4       24.59  3.61  Female     No  Sun  Dinner     4"
      ]
     },
     "execution_count": 13,
     "metadata": {},
     "output_type": "execute_result"
    }
   ],
   "source": [
    "tips.head(5)\n"
   ]
  },
  {
   "cell_type": "markdown",
   "id": "a8f30961-a13e-4ec1-a56f-e25e9f41a374",
   "metadata": {},
   "source": [
    "### information and statistical describtion of dataset"
   ]
  },
  {
   "cell_type": "code",
   "execution_count": 14,
   "id": "fe0728e3-0336-45ce-939b-9735465250fc",
   "metadata": {},
   "outputs": [
    {
     "data": {
      "text/plain": [
       "<bound method DataFrame.info of      total_bill   tip     sex smoker   day    time  size\n",
       "0         16.99  1.01  Female     No   Sun  Dinner     2\n",
       "1         10.34  1.66    Male     No   Sun  Dinner     3\n",
       "2         21.01  3.50    Male     No   Sun  Dinner     3\n",
       "3         23.68  3.31    Male     No   Sun  Dinner     2\n",
       "4         24.59  3.61  Female     No   Sun  Dinner     4\n",
       "..          ...   ...     ...    ...   ...     ...   ...\n",
       "239       29.03  5.92    Male     No   Sat  Dinner     3\n",
       "240       27.18  2.00  Female    Yes   Sat  Dinner     2\n",
       "241       22.67  2.00    Male    Yes   Sat  Dinner     2\n",
       "242       17.82  1.75    Male     No   Sat  Dinner     2\n",
       "243       18.78  3.00  Female     No  Thur  Dinner     2\n",
       "\n",
       "[244 rows x 7 columns]>"
      ]
     },
     "execution_count": 14,
     "metadata": {},
     "output_type": "execute_result"
    }
   ],
   "source": [
    "tips.info"
   ]
  },
  {
   "cell_type": "markdown",
   "id": "e74fd0a9-b494-4a53-9080-34db926acc0e",
   "metadata": {},
   "source": [
    "# statistical information of data"
   ]
  },
  {
   "cell_type": "code",
   "execution_count": 18,
   "id": "541ec72b-261e-4b31-94bb-6f540cfd2637",
   "metadata": {},
   "outputs": [
    {
     "data": {
      "text/html": [
       "<div>\n",
       "<style scoped>\n",
       "    .dataframe tbody tr th:only-of-type {\n",
       "        vertical-align: middle;\n",
       "    }\n",
       "\n",
       "    .dataframe tbody tr th {\n",
       "        vertical-align: top;\n",
       "    }\n",
       "\n",
       "    .dataframe thead th {\n",
       "        text-align: right;\n",
       "    }\n",
       "</style>\n",
       "<table border=\"1\" class=\"dataframe\">\n",
       "  <thead>\n",
       "    <tr style=\"text-align: right;\">\n",
       "      <th></th>\n",
       "      <th>total_bill</th>\n",
       "      <th>tip</th>\n",
       "      <th>size</th>\n",
       "    </tr>\n",
       "  </thead>\n",
       "  <tbody>\n",
       "    <tr>\n",
       "      <th>count</th>\n",
       "      <td>244.000000</td>\n",
       "      <td>244.000000</td>\n",
       "      <td>244.000000</td>\n",
       "    </tr>\n",
       "    <tr>\n",
       "      <th>mean</th>\n",
       "      <td>19.785943</td>\n",
       "      <td>2.998279</td>\n",
       "      <td>2.569672</td>\n",
       "    </tr>\n",
       "    <tr>\n",
       "      <th>std</th>\n",
       "      <td>8.902412</td>\n",
       "      <td>1.383638</td>\n",
       "      <td>0.951100</td>\n",
       "    </tr>\n",
       "    <tr>\n",
       "      <th>min</th>\n",
       "      <td>3.070000</td>\n",
       "      <td>1.000000</td>\n",
       "      <td>1.000000</td>\n",
       "    </tr>\n",
       "    <tr>\n",
       "      <th>25%</th>\n",
       "      <td>13.347500</td>\n",
       "      <td>2.000000</td>\n",
       "      <td>2.000000</td>\n",
       "    </tr>\n",
       "    <tr>\n",
       "      <th>50%</th>\n",
       "      <td>17.795000</td>\n",
       "      <td>2.900000</td>\n",
       "      <td>2.000000</td>\n",
       "    </tr>\n",
       "    <tr>\n",
       "      <th>75%</th>\n",
       "      <td>24.127500</td>\n",
       "      <td>3.562500</td>\n",
       "      <td>3.000000</td>\n",
       "    </tr>\n",
       "    <tr>\n",
       "      <th>max</th>\n",
       "      <td>50.810000</td>\n",
       "      <td>10.000000</td>\n",
       "      <td>6.000000</td>\n",
       "    </tr>\n",
       "  </tbody>\n",
       "</table>\n",
       "</div>"
      ],
      "text/plain": [
       "       total_bill         tip        size\n",
       "count  244.000000  244.000000  244.000000\n",
       "mean    19.785943    2.998279    2.569672\n",
       "std      8.902412    1.383638    0.951100\n",
       "min      3.070000    1.000000    1.000000\n",
       "25%     13.347500    2.000000    2.000000\n",
       "50%     17.795000    2.900000    2.000000\n",
       "75%     24.127500    3.562500    3.000000\n",
       "max     50.810000   10.000000    6.000000"
      ]
     },
     "execution_count": 18,
     "metadata": {},
     "output_type": "execute_result"
    }
   ],
   "source": [
    "tips.describe()"
   ]
  },
  {
   "cell_type": "markdown",
   "id": "b080f6a7-02ae-4f70-88a2-2b70f5b84845",
   "metadata": {},
   "source": [
    "# data visualization with statistical relationships"
   ]
  },
  {
   "cell_type": "code",
   "execution_count": 22,
   "id": "b53ae338-275a-4598-b44d-a9eb7753ac37",
   "metadata": {},
   "outputs": [
    {
     "data": {
      "image/png": "[encoded data removed]",
      "text/plain": [
       "<Figure size 360x360 with 1 Axes>"
      ]
     },
     "metadata": {},
     "output_type": "display_data"
    }
   ],
   "source": [
    "\n",
    "sns.relplot(x = \"total_bill\", y = \"tip\", data = tips);"
   ]
  },
  {
   "cell_type": "markdown",
   "id": "33952521-7b77-4ac2-9e15-5e98d5e869ca",
   "metadata": {},
   "source": [
    "### this relationship between tip and total bill\n",
    "#### you can notice that the tip increase when the total_bill increase"
   ]
  },
  {
   "cell_type": "code",
   "execution_count": 21,
   "id": "a13b92d4-4822-44e4-96d7-3343dc85ebf4",
   "metadata": {},
   "outputs": [
    {
     "data": {
      "image/png": "[encoded data removed]",
      "text/plain": [
       "<Figure size 417.475x360 with 1 Axes>"
      ]
     },
     "metadata": {},
     "output_type": "display_data"
    }
   ],
   "source": [
    "sns.relplot(x = \"total_bill\", y = \"tip\", hue= \"smoker\", data = tips);"
   ]
  },
  {
   "cell_type": "markdown",
   "id": "6da8b2c5-6d9b-41a2-bd6a-a6ffeb76607b",
   "metadata": {},
   "source": [
    "### this plot describe the relation between tip with total_bill while the data in two colors orange for no smokers and blue for smoker"
   ]
  },
  {
   "cell_type": "code",
   "execution_count": 51,
   "id": "2659c99e-eddf-4ae8-9f50-0f1a7faf4e96",
   "metadata": {},
   "outputs": [
    {
     "data": {
      "text/plain": [
       "<AxesSubplot:xlabel='sex', ylabel='tip'>"
      ]
     },
     "execution_count": 51,
     "metadata": {},
     "output_type": "execute_result"
    },
    {
     "data": {
      "image/png": "[encoded data removed]",
      "text/plain": [
       "<Figure size 432x288 with 1 Axes>"
      ]
     },
     "metadata": {},
     "output_type": "display_data"
    }
   ],
   "source": [
    "smoker = tips.groupby('smoker').sum()\n",
    "smoker\n",
    "sns.barplot(x = 'sex', y ='tip' , data = tips)"
   ]
  },
  {
   "cell_type": "markdown",
   "id": "a3e541f8-79eb-453c-b149-c70db86e25cb",
   "metadata": {},
   "source": [
    "### in this statistics it shows that the men more Generous than women 😆"
   ]
  },
  {
   "cell_type": "code",
   "execution_count": 114,
   "id": "31749437-5959-4c6c-8a13-bc314dc20cb0",
   "metadata": {},
   "outputs": [
    {
     "data": {
      "text/plain": [
       "{'female': '87', 'male': '157'}"
      ]
     },
     "execution_count": 114,
     "metadata": {},
     "output_type": "execute_result"
    }
   ],
   "source": [
    "x = tips['smoker'and'sex']\n",
    "\n",
    "male = 0\n",
    "female =0\n",
    "for i in range(len(x)):\n",
    "    if x[i]=='Female':\n",
    "        female += 1\n",
    "        i += 1\n",
    "    else:\n",
    "        male += 1\n",
    "        i += 1\n",
    "data = {'female':f'{female}','male':f'{male}'}\n",
    "data"
   ]
  },
  {
   "cell_type": "code",
   "execution_count": 115,
   "id": "235914fc-0e8a-4a77-bab2-1a7e877cfa58",
   "metadata": {},
   "outputs": [
    {
     "data": {
      "text/plain": [
       "<AxesSubplot:>"
      ]
     },
     "execution_count": 115,
     "metadata": {},
     "output_type": "execute_result"
    },
    {
     "data": {
      "image/png": "[encoded data removed]",
      "text/plain": [
       "<Figure size 432x288 with 1 Axes>"
      ]
     },
     "metadata": {},
     "output_type": "display_data"
    }
   ],
   "source": [
    "\n",
    "perc =  [float(i[:-1]) for i in data.values()]\n",
    "sns.barplot(x=list(data.keys()),y=perc)"
   ]
  },
  {
   "cell_type": "markdown",
   "id": "c7ae63b3-4678-42cd-89d7-8ee2050e5cd8",
   "metadata": {},
   "source": [
    "### this statistical shows the relation between smokers and sex and male smokers mor than female smokers"
   ]
  },
  {
   "cell_type": "code",
   "execution_count": 117,
   "id": "d90a509c-3045-4395-9d09-dee918b817ec",
   "metadata": {},
   "outputs": [
    {
     "data": {
      "text/plain": [
       "<AxesSubplot:xlabel='tip', ylabel='Count'>"
      ]
     },
     "execution_count": 117,
     "metadata": {},
     "output_type": "execute_result"
    },
    {
     "data": {
      "image/png": "[encoded data removed]",
      "text/plain": [
       "<Figure size 432x288 with 1 Axes>"
      ]
     },
     "metadata": {},
     "output_type": "display_data"
    }
   ],
   "source": [
    "sns.histplot(data=tips, x=\"tip\", hue=\"day\", multiple=\"stack\")"
   ]
  },
  {
   "cell_type": "markdown",
   "id": "1f7964c3-1e51-49ed-8199-5d9ff5d482eb",
   "metadata": {},
   "source": [
    "### Visualize the relationship for the tips in each day\n",
    "#### we can notice that in thursday is the most tip payed while the sunday is the Lowest day of the week"
   ]
  },
  {
   "cell_type": "markdown",
   "id": "c3a1d8e5-284a-4ef4-81d1-adde5fd47968",
   "metadata": {},
   "source": [
    "## Summary\n",
    "I noticed that :\n",
    "\n",
    "1. while the total bill is bgger the tips is more and more\n",
    "2. men smokers more than man smokers\n",
    "3. we can notice that in thursday is the most tip payed while the sunday is the Lowest day of the week"
   ]
  },
  {
   "cell_type": "code",
   "execution_count": null,
   "id": "07b283c4-7092-4b8c-b6ab-07657093208c",
   "metadata": {},
   "outputs": [],
   "source": []
  }
 ],
 "metadata": {
  "kernelspec": {
   "display_name": "Python 3 (ipykernel)",
   "language": "python",
   "name": "python3"
  },
  "language_info": {
   "codemirror_mode": {
    "name": "ipython",
    "version": 3
   },
   "file_extension": ".py",
   "mimetype": "text/x-python",
   "name": "python",
   "nbconvert_exporter": "python",
   "pygments_lexer": "ipython3",
   "version": "3.8.10"
  }
 },
 "nbformat": 4,
 "nbformat_minor": 5
}
